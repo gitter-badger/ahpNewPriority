{
 "cells": [
  {
   "cell_type": "markdown",
   "metadata": {},
   "source": [
    "# Examples comparing eigen to new calc"
   ]
  },
  {
   "cell_type": "code",
   "execution_count": 1,
   "metadata": {
    "collapsed": true
   },
   "outputs": [],
   "source": [
    "import numpy as np\n",
    "import prioritycalcs.basics.eigen as eigen\n",
    "import prioritycalcs.basics.bill as bill"
   ]
  },
  {
   "cell_type": "code",
   "execution_count": 2,
   "metadata": {
    "collapsed": false
   },
   "outputs": [
    {
     "data": {
      "text/plain": [
       "array([[ 1.        ,  0.33333333,  3.        ,  1.        ],\n",
       "       [ 3.        ,  1.        ,  0.33333333,  3.        ],\n",
       "       [ 0.33333333,  3.        ,  1.        ,  0.11111111],\n",
       "       [ 1.        ,  0.33333333,  9.        ,  1.        ]])"
      ]
     },
     "execution_count": 2,
     "metadata": {},
     "output_type": "execute_result"
    }
   ],
   "source": [
    "sarah = np.array([[1.,  1./3, 3. , 1], \n",
    "                  [3 ,   1., 1./3 ,3 ], \n",
    "                  [1./3 , 3, 1., 1./9], \n",
    "                  [1, 1./3, 9, 1.]])\n",
    "sarah"
   ]
  },
  {
   "cell_type": "markdown",
   "metadata": {},
   "source": [
    "## Comparing Eigen To Bill's Method"
   ]
  },
  {
   "cell_type": "code",
   "execution_count": 11,
   "metadata": {
    "collapsed": false
   },
   "outputs": [
    {
     "name": "stdout",
     "output_type": "stream",
     "text": [
      "[ 0.17880868  0.29666914  0.17972795  0.34479423]\n",
      "[ 0.237558    0.31264391  0.13715418  0.31264391]\n"
     ]
    }
   ],
   "source": [
    "print(eigen.largest_eigen(sarah))\n",
    "print(bill.be_priorities(sarah))"
   ]
  },
  {
   "cell_type": "markdown",
   "metadata": {},
   "source": [
    "## Quick sanity check that both calcs agree on 3x3 submatrices of those votes"
   ]
  },
  {
   "cell_type": "code",
   "execution_count": 55,
   "metadata": {
    "collapsed": false
   },
   "outputs": [
    {
     "name": "stdout",
     "output_type": "stream",
     "text": [
      "[ 0.37405971  0.08645284  0.53948745]\n",
      "[ 0.37405971  0.08645284  0.53948745]\n"
     ]
    }
   ],
   "source": [
    "indices = [0,2,3]\n",
    "subsarah = sarah[indices,:][:,indices]\n",
    "print(eigen.largest_eigen(subsarah))\n",
    "print(bill.be_priorities(subsarah))"
   ]
  }
 ],
 "metadata": {
  "hide_input": false,
  "kernelspec": {
   "display_name": "Python 3",
   "language": "python",
   "name": "python3"
  },
  "language_info": {
   "codemirror_mode": {
    "name": "ipython",
    "version": 3
   },
   "file_extension": ".py",
   "mimetype": "text/x-python",
   "name": "python",
   "nbconvert_exporter": "python",
   "pygments_lexer": "ipython3",
   "version": "3.5.1"
  }
 },
 "nbformat": 4,
 "nbformat_minor": 0
}
