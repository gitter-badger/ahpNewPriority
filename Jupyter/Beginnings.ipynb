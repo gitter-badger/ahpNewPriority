{
 "cells": [
  {
   "cell_type": "markdown",
   "metadata": {},
   "source": [
    "# Basic Calculations to Explore New Priority Calculation"
   ]
  },
  {
   "cell_type": "code",
   "execution_count": 3,
   "metadata": {
    "collapsed": true
   },
   "outputs": [],
   "source": [
    "import numpy as np\n",
    "import prioritycalcs.basics.eigen as eigen"
   ]
  },
  {
   "cell_type": "code",
   "execution_count": 2,
   "metadata": {
    "collapsed": false
   },
   "outputs": [
    {
     "ename": "AttributeError",
     "evalue": "'module' object has no attribute 'harker_fix'",
     "output_type": "error",
     "traceback": [
      "\u001b[0;31m---------------------------------------------------------------------------\u001b[0m",
      "\u001b[0;31mAttributeError\u001b[0m                            Traceback (most recent call last)",
      "\u001b[0;32m<ipython-input-2-d98d77b88c56>\u001b[0m in \u001b[0;36m<module>\u001b[0;34m()\u001b[0m\n\u001b[0;32m----> 1\u001b[0;31m \u001b[0mbasics\u001b[0m\u001b[0;34m.\u001b[0m\u001b[0mharker_fix\u001b[0m\u001b[0;34m\u001b[0m\u001b[0m\n\u001b[0m",
      "\u001b[0;31mAttributeError\u001b[0m: 'module' object has no attribute 'harker_fix'"
     ]
    }
   ],
   "source": []
  },
  {
   "cell_type": "markdown",
   "metadata": {},
   "source": [
    "## Standard Eigenvector Calculation"
   ]
  },
  {
   "cell_type": "code",
   "execution_count": 2,
   "metadata": {
    "collapsed": true
   },
   "outputs": [],
   "source": [
    "def harker_fix(mat):\n",
    "    nrows = mat.shape[0]\n",
    "    ncols = mat.shape[1]\n",
    "    rval = mat.copy()\n",
    "    for row in range(nrows):\n",
    "        val = 1\n",
    "        for col in range(ncols):\n",
    "            if col != row and mat[row,col]==0:\n",
    "                val+=1\n",
    "        rval[row,row]=val\n",
    "    return(rval)"
   ]
  },
  {
   "cell_type": "code",
   "execution_count": 70,
   "metadata": {
    "collapsed": true
   },
   "outputs": [],
   "source": [
    "def largest_eigen(mat, error = 1e-10, use_harker = False):\n",
    "    if use_harker:\n",
    "        mat = harker_fix(mat)\n",
    "    size = mat.shape[0]\n",
    "    vec = np.ones([size])\n",
    "    diff = 1\n",
    "    while diff > error:\n",
    "        nextv = np.matmul(mat, vec)\n",
    "        nextv = nextv/sum(nextv)\n",
    "        diff = max(abs(nextv - vec))\n",
    "        vec = nextv\n",
    "    return(vec)"
   ]
  },
  {
   "cell_type": "markdown",
   "metadata": {},
   "source": [
    "## Standard geometric average calculation"
   ]
  },
  {
   "cell_type": "code",
   "execution_count": 113,
   "metadata": {
    "collapsed": false
   },
   "outputs": [],
   "source": [
    "def geom_avg(vals):\n",
    "    rval=1.0\n",
    "    count = 0\n",
    "    for val in vals:\n",
    "        val = vals[count]\n",
    "        if val != 0:\n",
    "            rval *= val\n",
    "            count+=1\n",
    "    if count != 0:\n",
    "        rval = pow(rval, 1.0/count)\n",
    "    return(rval)\n",
    "\n",
    "def geom_avg_mat(mat, coeffs = None):\n",
    "    size = mat.shape[0]\n",
    "    rval = np.ones([size])\n",
    "    for row in range(size):\n",
    "        if np.any(coeffs):\n",
    "            theRow = mat[row,:] * np.array(coeffs)\n",
    "        else:\n",
    "            theRow = mat[row,:]\n",
    "        rval[row] = geom_avg(theRow)\n",
    "    return(rval)"
   ]
  },
  {
   "cell_type": "markdown",
   "metadata": {},
   "source": [
    "## The new geometric average calculation"
   ]
  },
  {
   "cell_type": "code",
   "execution_count": 119,
   "metadata": {
    "collapsed": false
   },
   "outputs": [],
   "source": [
    "def be_priorities(mat, error = 1e-10):\n",
    "    size = mat.shape[0]\n",
    "    vec = np.ones([size])\n",
    "    diff = 1\n",
    "    count=0\n",
    "    while diff >= error and count < 100:\n",
    "        nextv = geom_avg_mat(mat, vec)\n",
    "        #nextv = nextv/max(nextv)\n",
    "        diff = max(abs(nextv - vec))\n",
    "        vec = nextv\n",
    "        count+=1\n",
    "    return(vec/sum(vec))"
   ]
  },
  {
   "cell_type": "code",
   "execution_count": 120,
   "metadata": {
    "collapsed": false
   },
   "outputs": [
    {
     "data": {
      "text/plain": [
       "array([ 1.41421356,  0.70710678])"
      ]
     },
     "execution_count": 120,
     "metadata": {},
     "output_type": "execute_result"
    }
   ],
   "source": [
    "n=np.array([[1, 2.],[1./2, 1]])\n",
    "geom_avg_mat(n)"
   ]
  },
  {
   "cell_type": "code",
   "execution_count": 121,
   "metadata": {
    "collapsed": false
   },
   "outputs": [
    {
     "data": {
      "text/plain": [
       "array([ 0.66666667,  0.33333333])"
      ]
     },
     "execution_count": 121,
     "metadata": {},
     "output_type": "execute_result"
    }
   ],
   "source": [
    "be_priorities(n)"
   ]
  },
  {
   "cell_type": "code",
   "execution_count": 122,
   "metadata": {
    "collapsed": false
   },
   "outputs": [
    {
     "data": {
      "text/plain": [
       "array([ 0.6,  0.3,  0.1])"
      ]
     },
     "execution_count": 122,
     "metadata": {},
     "output_type": "execute_result"
    }
   ],
   "source": [
    "w = np.array([[1, 2, 6], [1./2, 1,0 ], [1./6,0, 1]])\n",
    "be_priorities(w)"
   ]
  },
  {
   "cell_type": "code",
   "execution_count": 123,
   "metadata": {
    "collapsed": false
   },
   "outputs": [
    {
     "data": {
      "text/plain": [
       "array([ 0.6,  0.3,  0.1])"
      ]
     },
     "execution_count": 123,
     "metadata": {},
     "output_type": "execute_result"
    }
   ],
   "source": [
    "largest_eigen(harker_fix(w))"
   ]
  },
  {
   "cell_type": "code",
   "execution_count": 124,
   "metadata": {
    "collapsed": false
   },
   "outputs": [
    {
     "data": {
      "text/plain": [
       "array([ 0.6,  0.3,  0.1])"
      ]
     },
     "execution_count": 124,
     "metadata": {},
     "output_type": "execute_result"
    }
   ],
   "source": [
    "z=be_priorities(w)\n",
    "z"
   ]
  },
  {
   "cell_type": "code",
   "execution_count": 125,
   "metadata": {
    "collapsed": false
   },
   "outputs": [
    {
     "data": {
      "text/plain": [
       "array([[ 1.        ,  2.        ,  6.        ],\n",
       "       [ 0.5       ,  1.        ,  0.        ],\n",
       "       [ 0.16666667,  0.        ,  1.        ]])"
      ]
     },
     "execution_count": 125,
     "metadata": {},
     "output_type": "execute_result"
    }
   ],
   "source": [
    "w"
   ]
  },
  {
   "cell_type": "code",
   "execution_count": 126,
   "metadata": {
    "collapsed": false
   },
   "outputs": [
    {
     "data": {
      "text/plain": [
       "array([ 3, 14])"
      ]
     },
     "execution_count": 126,
     "metadata": {},
     "output_type": "execute_result"
    }
   ],
   "source": [
    "np.array([1,2])*np.array([3,7])"
   ]
  },
  {
   "cell_type": "code",
   "execution_count": null,
   "metadata": {
    "collapsed": true
   },
   "outputs": [],
   "source": []
  }
 ],
 "metadata": {
  "hide_input": false,
  "kernelspec": {
   "display_name": "Python 2",
   "language": "python",
   "name": "python2"
  },
  "language_info": {
   "codemirror_mode": {
    "name": "ipython",
    "version": 2
   },
   "file_extension": ".py",
   "mimetype": "text/x-python",
   "name": "python",
   "nbconvert_exporter": "python",
   "pygments_lexer": "ipython2",
   "version": "2.7.11"
  }
 },
 "nbformat": 4,
 "nbformat_minor": 0
}
